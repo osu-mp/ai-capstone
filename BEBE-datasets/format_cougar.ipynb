{
 "cells": [
  {
   "cell_type": "markdown",
   "id": "86ce8245-b923-42ba-b1cf-b0a8bdb804d4",
   "metadata": {},
   "source": [
    "# Notebook to format Yellowstone cougar data\n",
    "# Adapted from \"A public domain dataset for human activity recognition using smartphones\", Anguita et al (2013).\n",
    "\n",
    "Data can be found [here](https://doi.org/10.24432/C54S4K).\n",
    "\n",
    "[Leaderboard](https://paperswithcode.com/dataset/har)\n",
    "\n",
    "[Paper](https://www.esann.org/sites/default/files/proceedings/legacy/es2013-84.pdf)"
   ]
  },
  {
   "cell_type": "markdown",
   "id": "594fc3f1-2e94-4188-9d49-9f307850211d",
   "metadata": {
    "tags": []
   },
   "source": [
    "## Outputs:\n",
    "- dataset_metadata (yaml)\n",
    "- clip_data (directory of csv files)\n",
    "- class_rep (yaml)"
   ]
  },
  {
   "cell_type": "markdown",
   "id": "d0272a66-c0c3-4a6b-8e2b-73356e7f176d",
   "metadata": {},
   "source": [
    "# Setup"
   ]
  },
  {
   "cell_type": "code",
   "execution_count": 360,
   "id": "ec388900-f0ab-4e41-a56b-9597e4f4911f",
   "metadata": {},
   "outputs": [],
   "source": [
    "# DEPRECATED - use utils/BEBE_format_cougar instead\n",
    "import os\n",
    "import numpy as np\n",
    "import pandas as pd\n",
    "import h5py\n",
    "from matplotlib import pyplot as plt\n",
    "import glob\n",
    "import yaml\n",
    "import scipy.signal as signal"
   ]
  },
  {
   "cell_type": "markdown",
   "id": "62862f57-b5c9-4569-bf16-8b5bc33e7fee",
   "metadata": {},
   "source": [
    "We first set up directories where datafiles and metadata will be stored"
   ]
  },
  {
   "cell_type": "code",
   "execution_count": 376,
   "id": "6bc728a2-a91e-4da2-abea-4b57ceb4e818",
   "metadata": {},
   "outputs": [],
   "source": [
    "# Specify data filepaths, and set up directories where we will save files\n",
    "\n",
    "# Currently we only have kills labeled for 3 cats. In order for the 5-fold validation to work,\n",
    "# we have split each cat's kills into two different users to give the illusion of twice the cats.\n",
    "# E.g. F209 will have half of her kills labeled as user 2090 and the other half labeled as user 2091.\n",
    "\n",
    "# +/- 6 hours either side of kill\n",
    "# raw_data_dir = '/home/matthew/AI_Capstone/ai-capstone/BEBE-datasets/raw_cougar_split/'\n",
    "# formatted_data_dir = '/home/matthew/AI_Capstone/ai-capstone/BEBE-datasets/format_cougar_12_hr_window/'\n",
    "\n",
    "# # +/- 1 hour either side of kill\n",
    "# raw_data_dir = '/home/matthew/AI_Capstone/ai-capstone/BEBE-datasets/raw_cougar_2hr_window/'\n",
    "# formatted_data_dir = '/home/matthew/AI_Capstone/ai-capstone/BEBE-datasets/format_cougar_2hr_window/'\n",
    "\n",
    "# # full day with kill\n",
    "# raw_data_dir = '/home/matthew/AI_Capstone/ai-capstone/BEBE-datasets/raw_cougar_24hr_window/'\n",
    "# formatted_data_dir = '/home/matthew/AI_Capstone/ai-capstone/BEBE-datasets/format_cougar_24hr_window/'\n",
    "\n",
    "\n",
    "# # full day with kill - ONLY F202 \n",
    "# raw_data_dir = '/home/matthew/AI_Capstone/ai-capstone/BEBE-datasets/raw_cougar_24hr_window_F202/'\n",
    "# formatted_data_dir = '/home/matthew/AI_Capstone/ai-capstone/BEBE-datasets/format_cougar_24hr_window_F202/'\n",
    "\n",
    "# # full day with kill - ONLY F202 - non kill labels added\n",
    "# raw_data_dir = '/home/matthew/AI_Capstone/ai-capstone/BEBE-datasets/raw_cougar_24hr_window_F202_NK/'\n",
    "# formatted_data_dir = '/home/matthew/AI_Capstone/ai-capstone/BEBE-datasets/format_cougar_24hr_window_F202_NK/'\n",
    "\n",
    "# full day with kill - NON_KILL labels added\n",
    "raw_data_dir = '/home/matthew/AI_Capstone/ai-capstone/BEBE-datasets/raw_cougar_24hr_window_NK/'\n",
    "formatted_data_dir = '/home/matthew/AI_Capstone/ai-capstone/BEBE-datasets/format_cougar_24hr_window_NK/'\n",
    "\n",
    "\n",
    "\n",
    "if not os.path.exists(formatted_data_dir):\n",
    "    os.makedirs(formatted_data_dir)\n",
    "    \n",
    "acc_fps = glob.glob(raw_data_dir + '/RawData/acc*.txt')\n",
    "\n",
    "clip_data_dir = os.path.join(formatted_data_dir, 'clip_data')\n",
    "if not os.path.exists(clip_data_dir):\n",
    "    os.makedirs(clip_data_dir)"
   ]
  },
  {
   "cell_type": "markdown",
   "id": "fe277a69-fbc9-4eab-8f04-c2062282d97d",
   "metadata": {},
   "source": [
    "Dataset metadata is kept in a dictionary for now. All entries in the dataset metadata are read by the main scripts in BEBE, and are required."
   ]
  },
  {
   "cell_type": "code",
   "execution_count": 362,
   "id": "98f244e7-ac03-48e2-868a-1b7f7dd15fea",
   "metadata": {},
   "outputs": [],
   "source": [
    "# Dataset metadata is tracked as a dictionary\n",
    "\n",
    "dataset_metadata = {}\n",
    "sr = 16 # sampling rate, in Hz\n",
    "dataset_metadata['sr'] = sr ## from dataset documentation\n",
    "dataset_metadata['dataset_name'] = 'cougar'"
   ]
  },
  {
   "cell_type": "markdown",
   "id": "bc07e2f1-eb44-43f6-9a75-a03c191ad6d2",
   "metadata": {},
   "source": [
    "Each contiguous chunk of data is a clip, and is associated with a unique clip_id. These clip ids will be used as filenames when saving formatted data"
   ]
  },
  {
   "cell_type": "code",
   "execution_count": 363,
   "id": "bbba4963-16ae-4884-bdc5-50c6bb2bf6d0",
   "metadata": {},
   "outputs": [],
   "source": [
    "# Here we get clip_ids by drawing from the names of the pre-existing acc and gyr files.\n",
    "## eg '/home/jupyter/behavior_data_local/data/raw/HAR/RawData/acc_exp58_user29.txt' -> 'exp58_user29'\n",
    "\n",
    "acc_clip_ids = sorted(set([x.split('/')[-1].split('.')[0][4:] for x in acc_fps]))\n",
    "\n",
    "clip_ids = acc_clip_ids\n",
    "dataset_metadata['clip_ids'] = clip_ids"
   ]
  },
  {
   "cell_type": "markdown",
   "id": "44705825-f596-40b6-a2b6-f2be91f9444a",
   "metadata": {},
   "source": [
    "Each individual is given a number, beginning with 0 (skipped numbers are allowed but not preferred).\n",
    "We also set up a dictionary `clip_id_to_individual_id` which is of the form `{clip_id : individual_id}`. This tells us which individual is represented in each clip"
   ]
  },
  {
   "cell_type": "code",
   "execution_count": 364,
   "id": "7ea20959-639e-4f2c-8efa-945516302110",
   "metadata": {},
   "outputs": [],
   "source": [
    "## Integer codes for individuals\n",
    "\n",
    "clip_id_to_individual_id = {clip_id : int(clip_id.split('_')[1][4:]) for clip_id in clip_ids}\n",
    "individuals = sorted({clip_id_to_individual_id[key] for key in clip_id_to_individual_id})\n",
    "\n",
    "dataset_metadata['individual_ids'] = individuals # There are 14 individuals but only 13 mentioned in the paper\n",
    "dataset_metadata['clip_id_to_individual_id'] = clip_id_to_individual_id"
   ]
  },
  {
   "cell_type": "markdown",
   "id": "cdcde3b8-8190-4971-ab5b-0a9ea4b80646",
   "metadata": {},
   "source": [
    "We divide the individuals into five folds"
   ]
  },
  {
   "cell_type": "code",
   "execution_count": 365,
   "id": "f2bafb1c-3f7f-43af-82a5-acaf4c7c8b69",
   "metadata": {},
   "outputs": [
    {
     "name": "stdout",
     "output_type": "stream",
     "text": [
      "{0: [2020], 1: [2021], 2: [2022], 3: [2023], 4: [2024]}\n",
      "There are 5 individuals\n"
     ]
    }
   ],
   "source": [
    "# Set up data splits: divide individuals across folds for cross validation\n",
    "\n",
    "n_folds = 5\n",
    "dataset_metadata['n_folds'] = n_folds\n",
    "individuals_per_fold = {i : [] for i in range(n_folds)}\n",
    "\n",
    "for pointer, individual in enumerate(individuals):\n",
    "    individuals_per_fold[pointer % n_folds].append(individual)\n",
    "    \n",
    "dataset_metadata['individuals_per_fold'] = individuals_per_fold\n",
    "    \n",
    "print(individuals_per_fold)\n",
    "print(\"There are %d individuals\" % len(individuals))"
   ]
  },
  {
   "cell_type": "markdown",
   "id": "a0bcb729-1c92-440c-831f-23cd244c8332",
   "metadata": {},
   "source": [
    "We set up a dictionary `clip_ids_per_fold` which is of the form `{fold : list of clip_ids}`. It says in a given fold, which clip_ids are in that fold."
   ]
  },
  {
   "cell_type": "code",
   "execution_count": 366,
   "id": "ed6d55ef-3574-4052-9506-6c2d9af412cf",
   "metadata": {},
   "outputs": [],
   "source": [
    "# Set up clip ids \n",
    "\n",
    "clip_ids_per_fold = {i : [] for i in range(n_folds)}\n",
    "for clip_id in clip_ids:\n",
    "    individual = clip_id_to_individual_id[clip_id]\n",
    "    for fold in range(n_folds):\n",
    "        if individual in individuals_per_fold[fold]:\n",
    "            clip_ids_per_fold[fold].append(clip_id)\n",
    "for fold in range(n_folds):\n",
    "    clip_ids_per_fold[fold] = sorted(clip_ids_per_fold[fold])\n",
    "\n",
    "dataset_metadata['clip_ids_per_fold'] = clip_ids_per_fold"
   ]
  },
  {
   "cell_type": "markdown",
   "id": "c168a9ac-267f-4be8-ac36-229606913c24",
   "metadata": {},
   "source": [
    "We create a list of behavioral classes. By convention, the `unknown` class is always the first in this list, even if all data in the dataset has been annotated. The integer label associated with each behavior class name is equal to the index of that class name in this list"
   ]
  },
  {
   "cell_type": "code",
   "execution_count": 367,
   "id": "444a3dc3-dfb0-4907-833e-8caf3eb4d88d",
   "metadata": {},
   "outputs": [],
   "source": [
    "## Integer codes for specific behaviors\n",
    "\n",
    "# list of behaviors, see activity_labels.txt\n",
    "beh_names = ['unknown', \n",
    "             'STALK',\n",
    "             'KILL',\n",
    "             'FEED',\n",
    "            'NON_KILL',\n",
    "            ]\n",
    "\n",
    "dataset_metadata['label_names'] = beh_names\n",
    "\n",
    "def get_index_of_behavior(behavior):\n",
    "    # given the string of a label, convert it into an int representation of the behavior names list\n",
    "    # If not found, return 0 for unknown\n",
    "    try:\n",
    "        return int(beh_names.index(behavior))\n",
    "    except ValueError:\n",
    "        return 0"
   ]
  },
  {
   "cell_type": "markdown",
   "id": "43371d30-c242-465e-963a-3f1eb2e4fcb4",
   "metadata": {},
   "source": [
    "We name each data channel we will use. \n",
    "\n",
    "By convention, channels with the string `Acc` in their name will be pre-processed to separate static and dynamic acceleration. This uses a Butterworth filter, and the cutoff frequency of this filter is a hyperparameter specified during training.\n",
    "\n",
    "By convention, the last two data channels must be `individual_id` (which is constant within a single clip) and `label`, respectively. These are both integer-valued."
   ]
  },
  {
   "cell_type": "code",
   "execution_count": 368,
   "id": "f438d48f-0596-4a58-8669-358c9a4cec2d",
   "metadata": {},
   "outputs": [],
   "source": [
    "## clip_data column names\n",
    "\n",
    "clip_column_names = ['AccX', 'AccY', 'AccZ', 'individual_id', 'label']\n",
    "dataset_metadata['clip_column_names'] = clip_column_names"
   ]
  },
  {
   "cell_type": "markdown",
   "id": "a9c709f2-08c7-45fc-a29a-f034eb0031fe",
   "metadata": {},
   "source": [
    "We save the metadata dictionary as a `.yaml` file. However, we will still need to reload it and edit it at the very end of this notebook when we can compute average annotation duration."
   ]
  },
  {
   "cell_type": "code",
   "execution_count": 369,
   "id": "a560ecfd-2ff8-4aff-a58c-76bb31200b86",
   "metadata": {},
   "outputs": [],
   "source": [
    "## Save off dataset level metadata\n",
    "\n",
    "dataset_metadata_fp = os.path.join(formatted_data_dir, 'dataset_metadata.yaml')\n",
    "\n",
    "with open(dataset_metadata_fp, 'w') as file:\n",
    "    yaml.dump(dataset_metadata, file)"
   ]
  },
  {
   "cell_type": "markdown",
   "id": "f964b042-2a2b-4690-bdd1-1685991ca77f",
   "metadata": {},
   "source": [
    "## Format Clip Data"
   ]
  },
  {
   "cell_type": "markdown",
   "id": "55d816ae-831b-48bf-87ea-cc61eb9cd428",
   "metadata": {},
   "source": [
    "Now we are ready to format the data for BEBE. For each clip, we save the data from that clip as `clip_id.csv`. This file is a csv array without header. Its shape is `[num_sampled_time_steps, num_channels]`, where the `num_channels` is equal to the length of `dataset_metadata['clip_column_names']`."
   ]
  },
  {
   "cell_type": "code",
   "execution_count": 340,
   "id": "431f04f7-b376-4f31-84a4-799d997482b0",
   "metadata": {},
   "outputs": [],
   "source": [
    "# load up annotations (not needed when experiment data is already in CSVs)\n",
    "\n",
    "# annotations_fp = os.path.join(raw_data_dir, 'RawData', 'labels.txt')\n",
    "# annotations = pd.read_csv(annotations_fp, delimiter = ' ', header = None, names = ['exp_id','ind_id','label','start_sample','end_sample'])"
   ]
  },
  {
   "cell_type": "code",
   "execution_count": 370,
   "id": "226d618a-e1ac-4b91-993b-2c1b50e1f7a0",
   "metadata": {},
   "outputs": [],
   "source": [
    "# For each clip, create and save the data in the correct format\n",
    "\n",
    "total_dur_samples = 0\n",
    "total_annotation_dur_samples = 0\n",
    "\n",
    "# includes timestamp\n",
    "# header_names = [\"UTC DateTime\", \"Milliseconds\", \"Acc X [g]\", \"Acc Y [g]\", \"Acc Z [g]\", \"Category\"]\n",
    "# excludes timestamp\n",
    "header_names = [\"Acc X [g]\", \"Acc Y [g]\", \"Acc Z [g]\", \"Category\"]\n",
    "\n",
    "for clip_id in clip_ids:\n",
    "    # load features\n",
    "    acc_fp = os.path.join(raw_data_dir, 'RawData', 'acc_' + clip_id + '.txt')\n",
    "    \n",
    "    acc_data = pd.read_csv(acc_fp, delimiter = ',', header = 1)\n",
    "    \n",
    "    clip_dur_samples = len(acc_data)\n",
    "    total_dur_samples += clip_dur_samples\n",
    "        \n",
    "    exp_id = int(clip_id[3:5])\n",
    "    # annotations_sub = annotations[annotations['exp_id'] == exp_id]\n",
    "    \n",
    "    # reformat annotations\n",
    "    per_frame_annotations = np.zeros([clip_dur_samples, 1]) # populate with 0's, aka \"unknown\"\n",
    "    # for i, row in annotations_sub.iterrows():\n",
    "        # obs_int_label = row['label']\n",
    "        # int_label = obs_int_label if obs_int_label < 7 else 0 # Treat transitional states as unknown\n",
    "        # start_sample = row['start_sample']\n",
    "        # end_sample = row['end_sample']\n",
    "        # per_frame_annotations[start_sample: end_sample, :] = int_label\n",
    "\n",
    "    # insert individual id\n",
    "    individual_id = clip_id_to_individual_id[clip_id]\n",
    "    per_frame_individual_id = np.full_like(per_frame_annotations, individual_id)\n",
    "\n",
    "    \n",
    "    # clip_data = np.concatenate([acc_data, gyr_data, per_frame_individual_id, per_frame_annotations], axis = 1)\n",
    "    # clip_data = np.concatenate([acc_data, per_frame_individual_id, per_frame_annotations], axis = 1)\n",
    "\n",
    "    clip_data = pd.read_csv(acc_fp, delimiter=\",\", header=1, names=header_names)\n",
    "    clip_data[\"Category\"] = clip_data[\"Category\"].apply(get_index_of_behavior)\n",
    "    \n",
    "    # for row_idx, row in clip_data.iterrows():\n",
    "    #     # Check if the row already has a label\n",
    "    #     if type(row[\"Category\"]) == str:\n",
    "    #         row[\"Category\"] = get_index_of_behavior(row[\"Category\"])\n",
    "            \n",
    "    #         # continue\n",
    "    #         # clip_data[row_idx][\"Category\"] = get_index_of_behavior(row[\"Category\"])\n",
    "    #     else:\n",
    "    #         # It is NaN, because there was no label in this row\n",
    "    #         row[\"Dummy Index\"] = \"Other\"\n",
    "\n",
    "    individual_id_array = np.full(len(clip_data), individual_id, dtype=int)\n",
    "\n",
    "    clip_data.insert(len(header_names) - 1, \"individual_id\", individual_id_array)\n",
    "    clip_data[\"individual_id\"] = clip_data[\"individual_id\"].astype('Int64')\n",
    "\n",
    "    \n",
    "    clip_data_fp = os.path.join(clip_data_dir, clip_id + '.csv')\n",
    "    np.savetxt(clip_data_fp, clip_data, delimiter=\",\", fmt=\"%s\")\n",
    "    \n",
    "    # clip_annotation_dur_samples = sum(per_frame_annotations > 0)\n",
    "    # total_annotation_dur_samples += clip_annotation_dur_samples\n",
    "    "
   ]
  },
  {
   "cell_type": "markdown",
   "id": "5047bcb7-34c4-41e1-8c58-6b6e5eb49a46",
   "metadata": {},
   "source": [
    "Summary statistics computing during processing"
   ]
  },
  {
   "cell_type": "code",
   "execution_count": 371,
   "id": "70b1f763-a89c-4e3b-aa50-d36ed1a697da",
   "metadata": {},
   "outputs": [
    {
     "name": "stdout",
     "output_type": "stream",
     "text": [
      "total duration is 431966.187500 seconds, i.e. 119.990608 hours\n",
      "total annotation duration is 0.000000 seconds, i.e. 0.000000 hours\n"
     ]
    }
   ],
   "source": [
    "total_dur_sec = total_dur_samples / sr\n",
    "total_dur_hours = total_dur_sec / 3600\n",
    "print(\"total duration is %f seconds, i.e. %f hours\" % (total_dur_sec, total_dur_hours))\n",
    "\n",
    "total_annotation_dur_sec = total_annotation_dur_samples / sr\n",
    "total_annotation_dur_hours = total_annotation_dur_sec / 3600\n",
    "print(\"total annotation duration is %f seconds, i.e. %f hours\" % (total_annotation_dur_sec, total_annotation_dur_hours))"
   ]
  },
  {
   "cell_type": "markdown",
   "id": "c9844300-e520-49a9-b975-210caa20a21f",
   "metadata": {},
   "source": [
    "## Check it all looks ok"
   ]
  },
  {
   "cell_type": "markdown",
   "id": "4d63f3d9-407b-467a-862f-fe9abe795d10",
   "metadata": {},
   "source": [
    "These are just some simple visualizations, they do not affect anything."
   ]
  },
  {
   "cell_type": "code",
   "execution_count": 343,
   "id": "717812e0-af4e-4bd0-96db-5ce83ece61c3",
   "metadata": {},
   "outputs": [
    {
     "name": "stdout",
     "output_type": "stream",
     "text": [
      "clip_ids=['exp940_user2021', 'exp942_user2022', 'exp950_user2024', 'exp964_user2023', 'exp976_user2020']\n",
      "data=array([[-2.500e-01,  1.300e-01, -8.100e-01,  2.021e+03,  0.000e+00],\n",
      "       [-3.100e-01,  1.600e-01, -7.800e-01,  2.021e+03,  0.000e+00],\n",
      "       [-3.400e-01,  1.300e-01, -8.100e-01,  2.021e+03,  0.000e+00],\n",
      "       ...,\n",
      "       [-7.200e-01,  6.000e-02, -5.000e-01,  2.021e+03,  0.000e+00],\n",
      "       [-7.200e-01,  6.000e-02, -5.000e-01,  2.021e+03,  0.000e+00],\n",
      "       [-7.200e-01,  6.000e-02, -5.000e-01,  2.021e+03,  0.000e+00]])\n"
     ]
    },
    {
     "ename": "ValueError",
     "evalue": "Cannot load file containing pickled data when allow_pickle=False",
     "output_type": "error",
     "traceback": [
      "\u001b[0;31m---------------------------------------------------------------------------\u001b[0m",
      "\u001b[0;31mValueError\u001b[0m                                Traceback (most recent call last)",
      "Cell \u001b[0;32mIn[343], line 6\u001b[0m\n\u001b[1;32m      4\u001b[0m data \u001b[38;5;241m=\u001b[39m np\u001b[38;5;241m.\u001b[39mgenfromtxt(clip_data_fp, delimiter \u001b[38;5;241m=\u001b[39m \u001b[38;5;124m'\u001b[39m\u001b[38;5;124m,\u001b[39m\u001b[38;5;124m'\u001b[39m)\n\u001b[1;32m      5\u001b[0m \u001b[38;5;28mprint\u001b[39m(\u001b[38;5;124mf\u001b[39m\u001b[38;5;124m\"\u001b[39m\u001b[38;5;132;01m{\u001b[39;00mdata\u001b[38;5;132;01m=}\u001b[39;00m\u001b[38;5;124m\"\u001b[39m)\n\u001b[0;32m----> 6\u001b[0m data \u001b[38;5;241m=\u001b[39m \u001b[43mnp\u001b[49m\u001b[38;5;241;43m.\u001b[39;49m\u001b[43mload\u001b[49m\u001b[43m(\u001b[49m\u001b[43mclip_data_fp\u001b[49m\u001b[43m)\u001b[49m\n",
      "File \u001b[0;32m~/miniconda3/envs/BEBE/lib/python3.8/site-packages/numpy/lib/npyio.py:445\u001b[0m, in \u001b[0;36mload\u001b[0;34m(file, mmap_mode, allow_pickle, fix_imports, encoding)\u001b[0m\n\u001b[1;32m    442\u001b[0m \u001b[38;5;28;01melse\u001b[39;00m:\n\u001b[1;32m    443\u001b[0m     \u001b[38;5;66;03m# Try a pickle\u001b[39;00m\n\u001b[1;32m    444\u001b[0m     \u001b[38;5;28;01mif\u001b[39;00m \u001b[38;5;129;01mnot\u001b[39;00m allow_pickle:\n\u001b[0;32m--> 445\u001b[0m         \u001b[38;5;28;01mraise\u001b[39;00m \u001b[38;5;167;01mValueError\u001b[39;00m(\u001b[38;5;124m\"\u001b[39m\u001b[38;5;124mCannot load file containing pickled data \u001b[39m\u001b[38;5;124m\"\u001b[39m\n\u001b[1;32m    446\u001b[0m                          \u001b[38;5;124m\"\u001b[39m\u001b[38;5;124mwhen allow_pickle=False\u001b[39m\u001b[38;5;124m\"\u001b[39m)\n\u001b[1;32m    447\u001b[0m     \u001b[38;5;28;01mtry\u001b[39;00m:\n\u001b[1;32m    448\u001b[0m         \u001b[38;5;28;01mreturn\u001b[39;00m pickle\u001b[38;5;241m.\u001b[39mload(fid, \u001b[38;5;241m*\u001b[39m\u001b[38;5;241m*\u001b[39mpickle_kwargs)\n",
      "\u001b[0;31mValueError\u001b[0m: Cannot load file containing pickled data when allow_pickle=False"
     ]
    }
   ],
   "source": [
    "\n",
    "print(f\"{clip_ids=}\")\n",
    "clip_id = clip_ids[0]\n",
    "clip_data_fp = os.path.join(clip_data_dir, clip_id + '.csv')\n",
    "data = np.genfromtxt(clip_data_fp, delimiter = ',')\n",
    "print(f\"{data=}\")\n",
    "data = np.load(clip_data_fp)"
   ]
  },
  {
   "cell_type": "code",
   "execution_count": null,
   "id": "77164f71-4257-43b1-ae76-49f1438c836e",
   "metadata": {},
   "outputs": [
    {
     "data": {
      "text/plain": [
       "(115219, 5)"
      ]
     },
     "execution_count": 261,
     "metadata": {},
     "output_type": "execute_result"
    }
   ],
   "source": [
    "np.shape(data)"
   ]
  },
  {
   "cell_type": "code",
   "execution_count": null,
   "id": "b1d243b7-ec2e-4bc5-8239-400cc7241953",
   "metadata": {},
   "outputs": [
    {
     "data": {
      "image/png": "[encoded data removed]",
      "text/plain": [
       "<Figure size 640x480 with 1 Axes>"
      ]
     },
     "metadata": {},
     "output_type": "display_data"
    }
   ],
   "source": [
    "for i in range(np.shape(data)[1]):\n",
    "    plt.plot(data[:, i])"
   ]
  },
  {
   "cell_type": "code",
   "execution_count": null,
   "id": "ff4e9c59-9f68-4ee9-9cfd-0d1ca21b5900",
   "metadata": {},
   "outputs": [
    {
     "data": {
      "text/plain": [
       "[<matplotlib.lines.Line2D at 0x7f32e8594ca0>]"
      ]
     },
     "execution_count": 263,
     "metadata": {},
     "output_type": "execute_result"
    },
    {
     "data": {
      "image/png": "[encoded data removed]",
      "text/plain": [
       "<Figure size 640x480 with 1 Axes>"
      ]
     },
     "metadata": {},
     "output_type": "display_data"
    }
   ],
   "source": [
    "plt.plot(data[:,1])"
   ]
  },
  {
   "cell_type": "markdown",
   "id": "ee76f97f-7d96-48fc-a9c2-f3ec377837a6",
   "metadata": {},
   "source": [
    "## Plot Dataset Summary"
   ]
  },
  {
   "cell_type": "markdown",
   "id": "2bb918d8-f2a3-42ba-9617-a83a3c79c914",
   "metadata": {},
   "source": [
    "The cells in this section should be able to run without editing. They just provide visualizations of some dataset properties."
   ]
  },
  {
   "cell_type": "code",
   "execution_count": 372,
   "id": "bc4d237a-2684-4db3-9a08-7b81652d9371",
   "metadata": {},
   "outputs": [],
   "source": [
    "# Count class representation\n",
    "\n",
    "beh_names = dataset_metadata['label_names']\n",
    "label_count = {fold : {name : 0 for name in beh_names} for fold in range(n_folds)}\n",
    "\n",
    "for clip_id in clip_ids:\n",
    "    clip_data_fp = os.path.join(clip_data_dir, clip_id + '.csv')\n",
    "    data = pd.read_csv(clip_data_fp, delimiter = ',', header = None)\n",
    "    counts = data[data.keys()[-1]].astype(int).value_counts()\n",
    "    for key in counts.keys():\n",
    "        name = beh_names[key]\n",
    "        for fold in range(n_folds):\n",
    "            if clip_id in dataset_metadata['clip_ids_per_fold'][fold]:\n",
    "                label_count[fold][name] += counts[key]\n",
    "                \n",
    "label_perc = {fold : {name : 0 for name in beh_names[1:]} for fold in range(n_folds)}\n",
    "\n",
    "for name in beh_names[1:]:\n",
    "    for fold in range(n_folds):\n",
    "        label_perc[fold][name] = float(label_count[fold][name] / sum([label_count[fold][j] for j in beh_names[1:]]))\n"
   ]
  },
  {
   "cell_type": "code",
   "execution_count": 373,
   "id": "9c515788-245b-42f2-95ef-c439c9fe121d",
   "metadata": {},
   "outputs": [
    {
     "data": {
      "image/png": "[encoded data removed]",
      "text/plain": [
       "<Figure size 640x480 with 1 Axes>"
      ]
     },
     "metadata": {},
     "output_type": "display_data"
    }
   ],
   "source": [
    "# Plot class representation\n",
    "\n",
    "# https://gist.github.com/thriveth/8560036#file-cbcolors-py\n",
    "CB_color_cycle = ['#377eb8', '#ff7f00', '#4daf4a',\n",
    "                  '#f781bf', '#a65628', '#984ea3',\n",
    "                  '#999999', '#e41a1c', '#dede00']\n",
    "\n",
    "keys = np.arange(len(beh_names))[1:]\n",
    "offset = 0.1\n",
    "width = 0.1\n",
    "plt.figure(figsize=(8, 6), dpi=80)\n",
    "\n",
    "for fold in range(n_folds):\n",
    "    current_offset = -(fold - n_folds // 2)*offset\n",
    "    plt.barh(keys +current_offset, [label_perc[fold][beh_names[key]] for key in keys], height=width, align='center', label = fold, color = CB_color_cycle[fold])\n",
    "    \n",
    "plt.title(\"Class representation across folds\")\n",
    "plt.yticks(keys, beh_names[1:], fontsize = 7, rotation = 60)\n",
    "plt.xlabel('Percent of known labels')\n",
    "plt.legend()\n",
    "target_fp = os.path.join(formatted_data_dir, 'class_rep.svg')\n",
    "\n",
    "plt.savefig(target_fp, format = 'svg')\n",
    "plt.show()\n",
    "\n",
    "numerical_target_fp = os.path.join(formatted_data_dir, 'class_rep.yaml')\n",
    "with open(numerical_target_fp, 'w') as file:\n",
    "    yaml.dump(label_perc, file)"
   ]
  },
  {
   "cell_type": "code",
   "execution_count": 374,
   "id": "2375043d-2ff7-4cfa-a509-4fc6d5fe2c7f",
   "metadata": {},
   "outputs": [
    {
     "data": {
      "image/png": "[encoded data removed]",
      "text/plain": [
       "<Figure size 1500x200 with 5 Axes>"
      ]
     },
     "metadata": {},
     "output_type": "display_data"
    }
   ],
   "source": [
    "# Pie chart, of known vs unknown samples \n",
    "\n",
    "labels = 'Known', 'Unknown'\n",
    "sizes = {fold : [sum([label_count[fold][j] for j in beh_names[1:]]), label_count[fold]['unknown']] for fold in range(n_folds)}\n",
    "# train_sizes = [sum([train_label_count[j] for j in beh_names[1:]]), train_label_count['unknown']]\n",
    "# val_sizes = [sum([val_label_count[j] for j in beh_names[1:]]), val_label_count['unknown']]\n",
    "# test_sizes = [sum([test_label_count[j] for j in beh_names[1:]]), test_label_count['unknown']]\n",
    "\n",
    "fig, ax = plt.subplots(1,n_folds, figsize = (3*n_folds,2))\n",
    "\n",
    "for fold in range(n_folds):\n",
    "    ax[fold].pie(sizes[fold], labels=labels, autopct='%1.1f%%', startangle=90)\n",
    "    ax[fold].axis('equal')  # Equal aspect ratio ensures that pie is drawn as a circle.\n",
    "    ax[fold].set_title(fold)\n",
    "\n",
    "target_fp = os.path.join(formatted_data_dir, 'perc_known.svg')\n",
    "\n",
    "plt.savefig(target_fp, format='svg')\n",
    "\n",
    "plt.show()\n"
   ]
  },
  {
   "cell_type": "markdown",
   "id": "06e1fee4-6542-4f3f-8f7c-5609baddb75b",
   "metadata": {},
   "source": [
    "## Temporal Statistics"
   ]
  },
  {
   "cell_type": "markdown",
   "id": "bd5bdbfc-5a3d-4b4d-84f0-b49b8be8dd19",
   "metadata": {},
   "source": [
    "This cell calculates the average duration of an annotation. It should run without needing to be edited, with the exception of the variable `infill_max_dur_sec`. This is only relevant in the situation where the annotations have regular gaps that should be filled in for the purpose of computing the average annotation duration. In the paper, this was only relevant for the Polar Bear dataset, because the annotations had regular gaps due to the video recording being duty-cycled (i.e. the camera turned off regularly to save battery). If this is not relevant for your dataset, leave `infill_max_dur_sec=0`."
   ]
  },
  {
   "cell_type": "code",
   "execution_count": 375,
   "id": "5c827143-891f-43d1-8e0f-9d401e61cfdb",
   "metadata": {},
   "outputs": [
    {
     "name": "stderr",
     "output_type": "stream",
     "text": [
      "  0%|          | 0/5 [00:00<?, ?it/s]"
     ]
    },
    {
     "name": "stderr",
     "output_type": "stream",
     "text": [
      "100%|██████████| 5/5 [00:02<00:00,  2.06it/s]"
     ]
    },
    {
     "name": "stdout",
     "output_type": "stream",
     "text": [
      "Mean overall label duration is 152434.592 seconds\n",
      "Re-saving metadata to /home/matthew/AI_Capstone/ai-capstone/BEBE-datasets/format_cougar_24hr_window_F202_NK/dataset_metadata.yaml\n"
     ]
    },
    {
     "name": "stderr",
     "output_type": "stream",
     "text": [
      "\n"
     ]
    }
   ],
   "source": [
    "####################################\n",
    "infill_max_dur_sec = 0 # If annotations are nnnnn0000000nnnnn, where 0=unknown, do we fill in 0's with n's?\n",
    "####################################\n",
    "\n",
    "# This cell runs almost as a stand alone, but requires the first few cells of this notebook to be run first\n",
    "\n",
    "import tqdm\n",
    "from pathlib import Path\n",
    "\n",
    "dataset_metadata_fp = os.path.join(formatted_data_dir, 'dataset_metadata.yaml')\n",
    "\n",
    "with open(dataset_metadata_fp, 'r') as file:\n",
    "    metadata = yaml.safe_load(file)\n",
    "\n",
    "clip_fps = list(Path(clip_data_dir).glob('*.csv'))\n",
    "\n",
    "def create_list_of_durations(x, infill_max_dur_sec, samplerate, unknown_value = 0):\n",
    "    # First pass: create a list of label durations, together with a list of the associated classes\n",
    "    current_value = 0\n",
    "    current_dur = 0\n",
    "    list_of_durs = []\n",
    "    list_of_labels = []\n",
    "    for i in x:\n",
    "        if i == current_value:\n",
    "            current_dur += 1\n",
    "        elif i != current_value:\n",
    "            list_of_durs.append(current_dur / samplerate)\n",
    "            list_of_labels.append(current_value)\n",
    "            current_dur = 1\n",
    "            current_value = i\n",
    "            \n",
    "    list_of_durs.append(current_dur)\n",
    "    list_of_labels.append(current_value)\n",
    "            \n",
    "    # repeatedly merge similar labels if they are seperated by unknowns of short duration\n",
    "    # This is mainly to deal with duty cycling of observations\n",
    "    infill_max_dur_samples = int(infill_max_dur_sec * samplerate)\n",
    "    \n",
    "    if list_of_labels[0] == unknown_value:\n",
    "        del list_of_labels[0]\n",
    "        del list_of_durs[0]\n",
    "        \n",
    "    if list_of_labels[-1] == unknown_value:\n",
    "        del list_of_labels[-1]\n",
    "        del list_of_durs[-1]\n",
    "    \n",
    "    j = 1\n",
    "    while j<len(list_of_labels)-1:\n",
    "        if list_of_labels[j] != unknown_value:\n",
    "            j+= 1\n",
    "        elif list_of_labels[j-1] == list_of_labels[j+1] and list_of_durs[j] < infill_max_dur_samples:\n",
    "            # merge if it's a short interval of unknowns between two of the same label\n",
    "            list_of_durs[j-1] += list_of_durs[j+1]\n",
    "            del list_of_durs[j+1]\n",
    "            del list_of_durs[j]\n",
    "            del list_of_labels[j+1]\n",
    "            del list_of_labels[j]\n",
    "        else:\n",
    "            # otherwise, drop the unknown segment\n",
    "            del list_of_durs[j]\n",
    "            del list_of_labels[j]\n",
    "\n",
    "    return list_of_labels, list_of_durs # list of annotation durations, in samples.\n",
    "                             \n",
    "durs_sec_by_individual = {i : [] for i in metadata['individual_ids']}\n",
    "overall_durs_sec = []\n",
    "    \n",
    "for fp in tqdm.tqdm(clip_fps):\n",
    "    clip_id = fp.stem\n",
    "    individual_id = metadata['clip_id_to_individual_id'][clip_id]\n",
    "    clip_annotations = list(pd.read_csv(fp, header = None).values[:, -1])\n",
    "    l, d = create_list_of_durations(clip_annotations, infill_max_dur_sec, metadata['sr'])\n",
    "    durs_sec_by_individual[individual_id].extend(d)\n",
    "    overall_durs_sec.extend(d)\n",
    "    \n",
    "mean_dur_sec_by_individual = {i : float(np.mean(durs_sec_by_individual[i])) for i in durs_sec_by_individual}\n",
    "mean_overall_dur_sec = float(np.mean(overall_durs_sec))\n",
    "\n",
    "metadata['mean_dur_sec_by_individual'] = mean_dur_sec_by_individual\n",
    "metadata['mean_overall_dur_sec'] = mean_overall_dur_sec\n",
    "\n",
    "print(\"Mean overall label duration is %0.3f seconds\" % mean_overall_dur_sec)\n",
    "\n",
    "print(\"Re-saving metadata to %s\" % str(dataset_metadata_fp))\n",
    "\n",
    "with open(dataset_metadata_fp, 'w') as file:\n",
    "    yaml.dump(metadata, file)"
   ]
  },
  {
   "cell_type": "code",
   "execution_count": null,
   "id": "d123044c-799d-40c7-86ff-1bf37e40669b",
   "metadata": {},
   "outputs": [],
   "source": []
  }
 ],
 "metadata": {
  "environment": {
   "kernel": "python3",
   "name": "pytorch-gpu.1-11.m94",
   "type": "gcloud",
   "uri": "gcr.io/deeplearning-platform-release/pytorch-gpu.1-11:m94"
  },
  "kernelspec": {
   "display_name": "Python 3",
   "language": "python",
   "name": "python3"
  },
  "language_info": {
   "codemirror_mode": {
    "name": "ipython",
    "version": 3
   },
   "file_extension": ".py",
   "mimetype": "text/x-python",
   "name": "python",
   "nbconvert_exporter": "python",
   "pygments_lexer": "ipython3",
   "version": "3.8.18"
  }
 },
 "nbformat": 4,
 "nbformat_minor": 5
}
